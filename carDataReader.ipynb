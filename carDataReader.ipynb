{
 "cells": [
  {
   "cell_type": "code",
   "execution_count": 55,
   "metadata": {
    "scrolled": true
   },
   "outputs": [],
   "source": [
    "from tkinter import filedialog\n",
    "from tkinter import *\n",
    "root = Tk()\n",
    "root.filename = filedialog.askopenfilename(initialdir = \"/\",\n",
    "                                           title = \"Select file\",\n",
    "                                           filetypes=((\"all files\",\"*.*\"),\n",
    "                                                      (\"comma separated variable files\",\"*.csv\"),\n",
    "                                                       (\"text files\",\"*.txt\")))\n",
    "root.destroy() #destroy the window after we choose our file "
   ]
  },
  {
   "cell_type": "code",
   "execution_count": 56,
   "metadata": {},
   "outputs": [],
   "source": [
    "colorList = list()\n",
    "mileageList = list()\n",
    "transmissionList = list()"
   ]
  },
  {
   "cell_type": "code",
   "execution_count": 57,
   "metadata": {},
   "outputs": [],
   "source": [
    "import csv\n",
    "\n",
    "with open(root.filename) as csv_file: #open the file we chose as a csv file \n",
    "    csv_reader = csv.reader(csv_file, delimiter=' ') #create a csv.reader object from the csv file we chose,\n",
    "                                                     #telling the system that each field will be separated (delimited) with commas\n",
    "\n",
    "    line_count = 0\n",
    "    for row in csv_reader:\n",
    "        line_count = line_count + 1\n",
    "        if line_count == 1: \n",
    "            colorList.append(row[2])\n",
    "        elif line_count == 3:\n",
    "            mileageList.append(row[9])\n",
    "        elif line_count == 5:\n",
    "            transmissionList.append(row[10])\n",
    "        elif line_count == 6:\n",
    "            line_count = 0\n",
    "\n",
    "        "
   ]
  },
  {
   "cell_type": "code",
   "execution_count": 58,
   "metadata": {},
   "outputs": [
    {
     "name": "stdout",
     "output_type": "stream",
     "text": [
      "['blue', 'orange', 'red', 'purple']\n",
      "['32100.0', '11100.0', '3323450.0', '3520.0']\n",
      "['automatic', 'manual', 'manual', 'automatic']\n"
     ]
    }
   ],
   "source": [
    "print(colorList)\n",
    "print(mileageList)\n",
    "print(transmissionList)"
   ]
  }
 ],
 "metadata": {
  "kernelspec": {
   "display_name": "Python 3",
   "language": "python",
   "name": "python3"
  },
  "language_info": {
   "codemirror_mode": {
    "name": "ipython",
    "version": 3
   },
   "file_extension": ".py",
   "mimetype": "text/x-python",
   "name": "python",
   "nbconvert_exporter": "python",
   "pygments_lexer": "ipython3",
   "version": "3.7.4"
  }
 },
 "nbformat": 4,
 "nbformat_minor": 2
}
