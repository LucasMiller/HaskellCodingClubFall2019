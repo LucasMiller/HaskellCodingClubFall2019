{
 "cells": [
  {
   "cell_type": "markdown",
   "metadata": {},
   "source": [
    "## Curve Fitting\n",
    "\n",
    "Note that the following code will find the \"best\" fit parameters for a given function to the data. It does not mean it is a GOOD fit, just the best one. Nor does it tell us whether it is reasonable to try and fit the given function to the data. Sometimes you can fit a square peg in a round hole, but that does not necessarily mean you SHOULD. More on this next week.   "
   ]
  },
  {
   "cell_type": "code",
   "execution_count": 1,
   "metadata": {},
   "outputs": [],
   "source": [
    "import numpy as np \n",
    "  \n",
    "# curve-fit() function imported from scipy \n",
    "from scipy.optimize import curve_fit \n",
    "from matplotlib import pyplot as plt "
   ]
  },
  {
   "cell_type": "code",
   "execution_count": 2,
   "metadata": {},
   "outputs": [],
   "source": [
    "# numpy.linspace with the given arguments \n",
    "# produce an array of 40 numbers between 0 \n",
    "# and 10, both inclusive \n",
    "x = np.linspace(0, 10, num = 40) "
   ]
  },
  {
   "cell_type": "code",
   "execution_count": 3,
   "metadata": {},
   "outputs": [],
   "source": [
    "# y is another array which stores 3.45 times \n",
    "# the sine of (values in x) * 1.334.  \n",
    "# The random.normal() draws random sample  \n",
    "# from normal (Gaussian) distribution to make \n",
    "# them scatter across the base line \n",
    "y = 3.45 * np.sin(1.334 * x) + np.random.normal(size = 40) "
   ]
  },
  {
   "cell_type": "code",
   "execution_count": 4,
   "metadata": {},
   "outputs": [],
   "source": [
    "# Test function with coefficients as parameters \n",
    "def test(x, a, b): \n",
    "    return a * np.sin(b * x) "
   ]
  },
  {
   "cell_type": "code",
   "execution_count": 5,
   "metadata": {},
   "outputs": [],
   "source": [
    "# curve_fit() function takes the test-function \n",
    "# x-data and y-data as argument and returns  \n",
    "# the coefficients a and b in param and \n",
    "# the estimated covariance of param in param_cov \n",
    "param, param_cov = curve_fit(test, x, y) \n",
    "  "
   ]
  },
  {
   "cell_type": "markdown",
   "metadata": {},
   "source": [
    "The covariant matrix gives us a rough idea of the uncertainty in each of the two parameters that we have estimated (look along the diagonal). The top left number gives us the uncertainty in the first coefficient, the bottom right number gives us the uncertainty in the second coefficient, and the other diagonal tells us the extent to which the two variables are dependent/independent of one another.   "
   ]
  },
  {
   "cell_type": "code",
   "execution_count": 6,
   "metadata": {},
   "outputs": [
    {
     "name": "stdout",
     "output_type": "stream",
     "text": [
      "Sine funcion coefficients:\n",
      "[3.40687243 1.33441901]\n",
      "Covariance of coefficients:\n",
      "[[ 5.81776976e-02 -6.13315079e-05]\n",
      " [-6.13315079e-05  1.28018419e-04]]\n"
     ]
    }
   ],
   "source": [
    "print(\"Sine funcion coefficients:\") \n",
    "print(param) \n",
    "print(\"Covariance of coefficients:\") \n",
    "print(param_cov) "
   ]
  },
  {
   "cell_type": "code",
   "execution_count": 7,
   "metadata": {},
   "outputs": [],
   "source": [
    "# ans stores the new y-data according to  \n",
    "# the coefficients given by curve-fit() function \n",
    "ans = (param[0]*(np.sin(param[1]*x))) "
   ]
  },
  {
   "cell_type": "code",
   "execution_count": 8,
   "metadata": {},
   "outputs": [
    {
     "data": {
      "image/png": "[encoded data removed]",
      "text/plain": [
       "<Figure size 432x288 with 1 Axes>"
      ]
     },
     "metadata": {
      "needs_background": "light"
     },
     "output_type": "display_data"
    }
   ],
   "source": [
    "plt.plot(x, y, 'o', color ='red', label =\"data\") \n",
    "plt.plot(x, ans, '--', color ='blue', label =\"optimized data\") \n",
    "plt.legend() \n",
    "plt.show() "
   ]
  },
  {
   "cell_type": "markdown",
   "metadata": {},
   "source": [
    "#Exercise -- Let's try fitting a different function to a new dataset\n",
    "\n",
    "Here is some new data on a different domain (different x-values). Normally we would read this data in from a file (probably a csv export of a spreadsheet that contains experimental data). "
   ]
  },
  {
   "cell_type": "code",
   "execution_count": 23,
   "metadata": {},
   "outputs": [],
   "source": [
    "x = np.linspace(0, 1, num = 40) \n",
    "y = 3.45 * np.exp(1.334 * x) + np.random.normal(size = 40) "
   ]
  },
  {
   "cell_type": "code",
   "execution_count": 24,
   "metadata": {},
   "outputs": [
    {
     "data": {
      "image/png": "[encoded data removed]",
      "text/plain": [
       "<Figure size 432x288 with 1 Axes>"
      ]
     },
     "metadata": {
      "needs_background": "light"
     },
     "output_type": "display_data"
    }
   ],
   "source": [
    "plt.plot(x, y, 'o', color ='red', label =\"data\")\n",
    "plt.legend() \n",
    "plt.show() "
   ]
  },
  {
   "cell_type": "markdown",
   "metadata": {},
   "source": [
    "Now fit this with a function of the form: y = a*e^(bx), where a and b are the coefficients we are looking for. "
   ]
  }
 ],
 "metadata": {
  "kernelspec": {
   "display_name": "Python 3",
   "language": "python",
   "name": "python3"
  },
  "language_info": {
   "codemirror_mode": {
    "name": "ipython",
    "version": 3
   },
   "file_extension": ".py",
   "mimetype": "text/x-python",
   "name": "python",
   "nbconvert_exporter": "python",
   "pygments_lexer": "ipython3",
   "version": "3.7.4"
  }
 },
 "nbformat": 4,
 "nbformat_minor": 2
}
